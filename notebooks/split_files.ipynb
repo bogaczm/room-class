{
 "cells": [
  {
   "cell_type": "code",
   "execution_count": 21,
   "id": "4c14f3db-ebb8-4684-a925-add09d880dc7",
   "metadata": {},
   "outputs": [],
   "source": [
    "import os\n",
    "from pathlib import Path\n",
    "import numpy as np\n",
    "import shutil\n",
    "import random\n",
    "\n",
    "RANDOM_SEED = 101"
   ]
  },
  {
   "cell_type": "code",
   "execution_count": 22,
   "id": "821fc6ee-bb4f-43b6-89e6-3c4eab2aa3c6",
   "metadata": {},
   "outputs": [],
   "source": [
    "# creating train / val /test\n",
    "source_dir = '../data/rooms_dataset_all'\n",
    "new_dir = '../data/rooms_split'"
   ]
  },
  {
   "cell_type": "code",
   "execution_count": 23,
   "id": "9ef18f58-fbe4-4f91-8491-67a97f7c0c4f",
   "metadata": {},
   "outputs": [],
   "source": [
    "classes = os.listdir(source_dir)"
   ]
  },
  {
   "cell_type": "code",
   "execution_count": 24,
   "id": "bbc8840f-0f92-480d-90d9-f4333b176675",
   "metadata": {},
   "outputs": [],
   "source": [
    "classes.remove('Exterior')"
   ]
  },
  {
   "cell_type": "code",
   "execution_count": 25,
   "id": "be5ff639-7e0f-4610-b21c-dc8973639ca3",
   "metadata": {},
   "outputs": [],
   "source": [
    "classes.remove('Interior')"
   ]
  },
  {
   "cell_type": "code",
   "execution_count": 27,
   "id": "d0a19540-23db-4977-8642-1008f86b0ef3",
   "metadata": {},
   "outputs": [],
   "source": [
    "for cls in classes:\n",
    "    os.makedirs(new_dir + '/train/' + cls)\n",
    "    os.makedirs(new_dir +'/val/' + cls)\n",
    "    os.makedirs(new_dir + '/test/' + cls)"
   ]
  },
  {
   "cell_type": "code",
   "execution_count": 28,
   "id": "69a6efc4-08cf-46e7-8a6f-5353afe2bfe8",
   "metadata": {},
   "outputs": [
    {
     "name": "stdout",
     "output_type": "stream",
     "text": [
      "../data/rooms_dataset_all/living_room\n",
      "Total images  : living_room 24210\n",
      "Training : living_room 21789\n",
      "Validation : living_room 1210\n",
      "Testing : living_room 1211\n",
      "../data/rooms_dataset_all/bathroom\n",
      "Total images  : bathroom 10058\n",
      "Training : bathroom 9052\n",
      "Validation : bathroom 503\n",
      "Testing : bathroom 503\n",
      "../data/rooms_dataset_all/kitchen\n",
      "Total images  : kitchen 24234\n",
      "Training : kitchen 21810\n",
      "Validation : kitchen 1212\n",
      "Testing : kitchen 1212\n",
      "../data/rooms_dataset_all/dining_room\n",
      "Total images  : dining_room 19500\n",
      "Training : dining_room 17550\n",
      "Validation : dining_room 975\n",
      "Testing : dining_room 975\n",
      "../data/rooms_dataset_all/bedroom\n",
      "Total images  : bedroom 24123\n",
      "Training : bedroom 21710\n",
      "Validation : bedroom 1206\n",
      "Testing : bedroom 1207\n"
     ]
    }
   ],
   "source": [
    "## creating partition of the data after shuffeling\n",
    "for cls in classes:\n",
    "    src = source_dir + \"/\" + cls # folder to copy images from\n",
    "    print(src)\n",
    "\n",
    "\n",
    "    allFileNames = os.listdir(src)\n",
    "    np.random.seed(RANDOM_SEED)\n",
    "    np.random.shuffle(allFileNames)\n",
    "\n",
    "    ##training ratio  \n",
    "    train_FileNames,val_FileNames,test_FileNames = np.split(np.array(allFileNames),[int(len(allFileNames)*0.90),int(len(allFileNames)*0.95)])\n",
    "\n",
    "    # #Converting file names from array to list\n",
    "    train_FileNames = [src+'/'+ name for name in train_FileNames]\n",
    "    val_FileNames = [src+'/' + name for name in val_FileNames]\n",
    "    test_FileNames = [src+'/' + name for name in test_FileNames]\n",
    "\n",
    "    print('Total images  : '+ cls + ' ' +str(len(allFileNames)))\n",
    "    print('Training : '+ cls + ' '+str(len(train_FileNames)))\n",
    "    print('Validation : '+ cls + ' ' +str(len(val_FileNames)))\n",
    "    print('Testing : '+ cls + ' '+str(len(test_FileNames)))\n",
    "    \n",
    "    ## Copy pasting images to target directory\n",
    "    for name in train_FileNames:\n",
    "        shutil.copy(name, new_dir+'/train/'+cls )\n",
    "\n",
    "    for name in val_FileNames:\n",
    "        shutil.copy(name, new_dir+'/val/'+cls )\n",
    "\n",
    "    for name in test_FileNames:\n",
    "        shutil.copy(name, new_dir+'/test/'+cls )"
   ]
  }
 ],
 "metadata": {
  "kernelspec": {
   "display_name": "Python 3 (ipykernel)",
   "language": "python",
   "name": "python3"
  },
  "language_info": {
   "codemirror_mode": {
    "name": "ipython",
    "version": 3
   },
   "file_extension": ".py",
   "mimetype": "text/x-python",
   "name": "python",
   "nbconvert_exporter": "python",
   "pygments_lexer": "ipython3",
   "version": "3.8.10"
  }
 },
 "nbformat": 4,
 "nbformat_minor": 5
}
